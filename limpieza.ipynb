{
 "cells": [
  {
   "cell_type": "markdown",
   "id": "16c15cc5",
   "metadata": {},
   "source": [
    "## **Proyecto 2 DataScience** \n",
    "- Sofía García - 22210\n",
    "- Joaquín Campos - 22155\n",
    "- Julio García Salas - 22076\n",
    "- Hanzel"
   ]
  },
  {
   "cell_type": "markdown",
   "id": "684cfc41",
   "metadata": {},
   "source": [
    "\n",
    " # Celda 1 — Carga, validación rápida del esquema y consistencia con `sample_submission`\n",
    "\n",
    " **Qué hace esta celda**\n",
    " 1) Inicializa el entorno (versiones y opciones de pandas).\n",
    " 2) Lee `data/train.csv`, `data/test.csv` y `data/sample_submission.csv` con manejo de *encoding*.\n",
    " 3) Muestra tamaños, columnas, tipos y detecta columnas “fantasma” (`Unnamed: 0`, etc.).\n",
    " 4) Verifica consistencia básica entre `test` y `sample_submission` (llave compartida y duplicados).\n",
    " 5) Explora la columna de etiqueta en `train` si existe (p. ej., `winner/label/chosen/target/preference`).\n",
    "\n",
    " > Resultado: quedan `df_train`, `df_test`, `df_submit` cargados y un **reporte de sanidad** para decidir próximos pasos."
   ]
  },
  {
   "cell_type": "code",
   "execution_count": 1,
   "id": "ec1ac4a1",
   "metadata": {},
   "outputs": [
    {
     "data": {
      "text/markdown": [
       "### Entorno\n",
       "- Python: `3.13.2`  \n",
       "- Pandas: `2.2.3`  \n",
       "- Plataforma: `Windows-10-10.0.19045-SP0`"
      ],
      "text/plain": [
       "<IPython.core.display.Markdown object>"
      ]
     },
     "metadata": {},
     "output_type": "display_data"
    },
    {
     "data": {
      "text/markdown": [
       "**Carpeta de datos:** `data`"
      ],
      "text/plain": [
       "<IPython.core.display.Markdown object>"
      ]
     },
     "metadata": {},
     "output_type": "display_data"
    },
    {
     "data": {
      "text/markdown": [
       "### Tamaños y columnas"
      ],
      "text/plain": [
       "<IPython.core.display.Markdown object>"
      ]
     },
     "metadata": {},
     "output_type": "display_data"
    },
    {
     "data": {
      "text/markdown": [
       "- `train`: (57477, 9)  \n",
       "- `test`: (3, 4)  \n",
       "- `sample_submission`: (3, 4)"
      ],
      "text/plain": [
       "<IPython.core.display.Markdown object>"
      ]
     },
     "metadata": {},
     "output_type": "display_data"
    },
    {
     "data": {
      "text/markdown": [
       "**Sin columnas fantasma detectadas.**"
      ],
      "text/plain": [
       "<IPython.core.display.Markdown object>"
      ]
     },
     "metadata": {},
     "output_type": "display_data"
    },
    {
     "data": {
      "text/markdown": [
       "### Esquema (dtypes, nulos y únicos)"
      ],
      "text/plain": [
       "<IPython.core.display.Markdown object>"
      ]
     },
     "metadata": {},
     "output_type": "display_data"
    },
    {
     "data": {
      "text/html": [
       "<style type=\"text/css\">\n",
       "</style>\n",
       "<table id=\"T_4ab13\">\n",
       "  <caption>train — primeras 20 filas del resumen</caption>\n",
       "  <thead>\n",
       "    <tr>\n",
       "      <th class=\"blank level0\" >&nbsp;</th>\n",
       "      <th id=\"T_4ab13_level0_col0\" class=\"col_heading level0 col0\" >dtype</th>\n",
       "      <th id=\"T_4ab13_level0_col1\" class=\"col_heading level0 col1\" >n_null</th>\n",
       "      <th id=\"T_4ab13_level0_col2\" class=\"col_heading level0 col2\" >pct_null</th>\n",
       "      <th id=\"T_4ab13_level0_col3\" class=\"col_heading level0 col3\" >n_unique</th>\n",
       "    </tr>\n",
       "  </thead>\n",
       "  <tbody>\n",
       "    <tr>\n",
       "      <th id=\"T_4ab13_level0_row0\" class=\"row_heading level0 row0\" >id</th>\n",
       "      <td id=\"T_4ab13_row0_col0\" class=\"data row0 col0\" >int64</td>\n",
       "      <td id=\"T_4ab13_row0_col1\" class=\"data row0 col1\" >0</td>\n",
       "      <td id=\"T_4ab13_row0_col2\" class=\"data row0 col2\" >0.000000</td>\n",
       "      <td id=\"T_4ab13_row0_col3\" class=\"data row0 col3\" >57477</td>\n",
       "    </tr>\n",
       "    <tr>\n",
       "      <th id=\"T_4ab13_level0_row1\" class=\"row_heading level0 row1\" >model_a</th>\n",
       "      <td id=\"T_4ab13_row1_col0\" class=\"data row1 col0\" >object</td>\n",
       "      <td id=\"T_4ab13_row1_col1\" class=\"data row1 col1\" >0</td>\n",
       "      <td id=\"T_4ab13_row1_col2\" class=\"data row1 col2\" >0.000000</td>\n",
       "      <td id=\"T_4ab13_row1_col3\" class=\"data row1 col3\" >64</td>\n",
       "    </tr>\n",
       "    <tr>\n",
       "      <th id=\"T_4ab13_level0_row2\" class=\"row_heading level0 row2\" >model_b</th>\n",
       "      <td id=\"T_4ab13_row2_col0\" class=\"data row2 col0\" >object</td>\n",
       "      <td id=\"T_4ab13_row2_col1\" class=\"data row2 col1\" >0</td>\n",
       "      <td id=\"T_4ab13_row2_col2\" class=\"data row2 col2\" >0.000000</td>\n",
       "      <td id=\"T_4ab13_row2_col3\" class=\"data row2 col3\" >64</td>\n",
       "    </tr>\n",
       "    <tr>\n",
       "      <th id=\"T_4ab13_level0_row3\" class=\"row_heading level0 row3\" >prompt</th>\n",
       "      <td id=\"T_4ab13_row3_col0\" class=\"data row3 col0\" >object</td>\n",
       "      <td id=\"T_4ab13_row3_col1\" class=\"data row3 col1\" >0</td>\n",
       "      <td id=\"T_4ab13_row3_col2\" class=\"data row3 col2\" >0.000000</td>\n",
       "      <td id=\"T_4ab13_row3_col3\" class=\"data row3 col3\" >51734</td>\n",
       "    </tr>\n",
       "    <tr>\n",
       "      <th id=\"T_4ab13_level0_row4\" class=\"row_heading level0 row4\" >response_a</th>\n",
       "      <td id=\"T_4ab13_row4_col0\" class=\"data row4 col0\" >object</td>\n",
       "      <td id=\"T_4ab13_row4_col1\" class=\"data row4 col1\" >0</td>\n",
       "      <td id=\"T_4ab13_row4_col2\" class=\"data row4 col2\" >0.000000</td>\n",
       "      <td id=\"T_4ab13_row4_col3\" class=\"data row4 col3\" >56566</td>\n",
       "    </tr>\n",
       "    <tr>\n",
       "      <th id=\"T_4ab13_level0_row5\" class=\"row_heading level0 row5\" >response_b</th>\n",
       "      <td id=\"T_4ab13_row5_col0\" class=\"data row5 col0\" >object</td>\n",
       "      <td id=\"T_4ab13_row5_col1\" class=\"data row5 col1\" >0</td>\n",
       "      <td id=\"T_4ab13_row5_col2\" class=\"data row5 col2\" >0.000000</td>\n",
       "      <td id=\"T_4ab13_row5_col3\" class=\"data row5 col3\" >56609</td>\n",
       "    </tr>\n",
       "    <tr>\n",
       "      <th id=\"T_4ab13_level0_row6\" class=\"row_heading level0 row6\" >winner_model_a</th>\n",
       "      <td id=\"T_4ab13_row6_col0\" class=\"data row6 col0\" >int64</td>\n",
       "      <td id=\"T_4ab13_row6_col1\" class=\"data row6 col1\" >0</td>\n",
       "      <td id=\"T_4ab13_row6_col2\" class=\"data row6 col2\" >0.000000</td>\n",
       "      <td id=\"T_4ab13_row6_col3\" class=\"data row6 col3\" >2</td>\n",
       "    </tr>\n",
       "    <tr>\n",
       "      <th id=\"T_4ab13_level0_row7\" class=\"row_heading level0 row7\" >winner_model_b</th>\n",
       "      <td id=\"T_4ab13_row7_col0\" class=\"data row7 col0\" >int64</td>\n",
       "      <td id=\"T_4ab13_row7_col1\" class=\"data row7 col1\" >0</td>\n",
       "      <td id=\"T_4ab13_row7_col2\" class=\"data row7 col2\" >0.000000</td>\n",
       "      <td id=\"T_4ab13_row7_col3\" class=\"data row7 col3\" >2</td>\n",
       "    </tr>\n",
       "    <tr>\n",
       "      <th id=\"T_4ab13_level0_row8\" class=\"row_heading level0 row8\" >winner_tie</th>\n",
       "      <td id=\"T_4ab13_row8_col0\" class=\"data row8 col0\" >int64</td>\n",
       "      <td id=\"T_4ab13_row8_col1\" class=\"data row8 col1\" >0</td>\n",
       "      <td id=\"T_4ab13_row8_col2\" class=\"data row8 col2\" >0.000000</td>\n",
       "      <td id=\"T_4ab13_row8_col3\" class=\"data row8 col3\" >2</td>\n",
       "    </tr>\n",
       "  </tbody>\n",
       "</table>\n"
      ],
      "text/plain": [
       "<pandas.io.formats.style.Styler at 0x2bed97cae40>"
      ]
     },
     "metadata": {},
     "output_type": "display_data"
    },
    {
     "data": {
      "text/html": [
       "<style type=\"text/css\">\n",
       "</style>\n",
       "<table id=\"T_5e42b\">\n",
       "  <caption>test — primeras 20 filas del resumen</caption>\n",
       "  <thead>\n",
       "    <tr>\n",
       "      <th class=\"blank level0\" >&nbsp;</th>\n",
       "      <th id=\"T_5e42b_level0_col0\" class=\"col_heading level0 col0\" >dtype</th>\n",
       "      <th id=\"T_5e42b_level0_col1\" class=\"col_heading level0 col1\" >n_null</th>\n",
       "      <th id=\"T_5e42b_level0_col2\" class=\"col_heading level0 col2\" >pct_null</th>\n",
       "      <th id=\"T_5e42b_level0_col3\" class=\"col_heading level0 col3\" >n_unique</th>\n",
       "    </tr>\n",
       "  </thead>\n",
       "  <tbody>\n",
       "    <tr>\n",
       "      <th id=\"T_5e42b_level0_row0\" class=\"row_heading level0 row0\" >id</th>\n",
       "      <td id=\"T_5e42b_row0_col0\" class=\"data row0 col0\" >int64</td>\n",
       "      <td id=\"T_5e42b_row0_col1\" class=\"data row0 col1\" >0</td>\n",
       "      <td id=\"T_5e42b_row0_col2\" class=\"data row0 col2\" >0.000000</td>\n",
       "      <td id=\"T_5e42b_row0_col3\" class=\"data row0 col3\" >3</td>\n",
       "    </tr>\n",
       "    <tr>\n",
       "      <th id=\"T_5e42b_level0_row1\" class=\"row_heading level0 row1\" >prompt</th>\n",
       "      <td id=\"T_5e42b_row1_col0\" class=\"data row1 col0\" >object</td>\n",
       "      <td id=\"T_5e42b_row1_col1\" class=\"data row1 col1\" >0</td>\n",
       "      <td id=\"T_5e42b_row1_col2\" class=\"data row1 col2\" >0.000000</td>\n",
       "      <td id=\"T_5e42b_row1_col3\" class=\"data row1 col3\" >3</td>\n",
       "    </tr>\n",
       "    <tr>\n",
       "      <th id=\"T_5e42b_level0_row2\" class=\"row_heading level0 row2\" >response_a</th>\n",
       "      <td id=\"T_5e42b_row2_col0\" class=\"data row2 col0\" >object</td>\n",
       "      <td id=\"T_5e42b_row2_col1\" class=\"data row2 col1\" >0</td>\n",
       "      <td id=\"T_5e42b_row2_col2\" class=\"data row2 col2\" >0.000000</td>\n",
       "      <td id=\"T_5e42b_row2_col3\" class=\"data row2 col3\" >3</td>\n",
       "    </tr>\n",
       "    <tr>\n",
       "      <th id=\"T_5e42b_level0_row3\" class=\"row_heading level0 row3\" >response_b</th>\n",
       "      <td id=\"T_5e42b_row3_col0\" class=\"data row3 col0\" >object</td>\n",
       "      <td id=\"T_5e42b_row3_col1\" class=\"data row3 col1\" >0</td>\n",
       "      <td id=\"T_5e42b_row3_col2\" class=\"data row3 col2\" >0.000000</td>\n",
       "      <td id=\"T_5e42b_row3_col3\" class=\"data row3 col3\" >3</td>\n",
       "    </tr>\n",
       "  </tbody>\n",
       "</table>\n"
      ],
      "text/plain": [
       "<pandas.io.formats.style.Styler at 0x2bee3ff0910>"
      ]
     },
     "metadata": {},
     "output_type": "display_data"
    },
    {
     "data": {
      "text/html": [
       "<style type=\"text/css\">\n",
       "</style>\n",
       "<table id=\"T_3f047\">\n",
       "  <caption>sample_submission — primeras 20 filas del resumen</caption>\n",
       "  <thead>\n",
       "    <tr>\n",
       "      <th class=\"blank level0\" >&nbsp;</th>\n",
       "      <th id=\"T_3f047_level0_col0\" class=\"col_heading level0 col0\" >dtype</th>\n",
       "      <th id=\"T_3f047_level0_col1\" class=\"col_heading level0 col1\" >n_null</th>\n",
       "      <th id=\"T_3f047_level0_col2\" class=\"col_heading level0 col2\" >pct_null</th>\n",
       "      <th id=\"T_3f047_level0_col3\" class=\"col_heading level0 col3\" >n_unique</th>\n",
       "    </tr>\n",
       "  </thead>\n",
       "  <tbody>\n",
       "    <tr>\n",
       "      <th id=\"T_3f047_level0_row0\" class=\"row_heading level0 row0\" >id</th>\n",
       "      <td id=\"T_3f047_row0_col0\" class=\"data row0 col0\" >int64</td>\n",
       "      <td id=\"T_3f047_row0_col1\" class=\"data row0 col1\" >0</td>\n",
       "      <td id=\"T_3f047_row0_col2\" class=\"data row0 col2\" >0.000000</td>\n",
       "      <td id=\"T_3f047_row0_col3\" class=\"data row0 col3\" >3</td>\n",
       "    </tr>\n",
       "    <tr>\n",
       "      <th id=\"T_3f047_level0_row1\" class=\"row_heading level0 row1\" >winner_model_a</th>\n",
       "      <td id=\"T_3f047_row1_col0\" class=\"data row1 col0\" >float64</td>\n",
       "      <td id=\"T_3f047_row1_col1\" class=\"data row1 col1\" >0</td>\n",
       "      <td id=\"T_3f047_row1_col2\" class=\"data row1 col2\" >0.000000</td>\n",
       "      <td id=\"T_3f047_row1_col3\" class=\"data row1 col3\" >1</td>\n",
       "    </tr>\n",
       "    <tr>\n",
       "      <th id=\"T_3f047_level0_row2\" class=\"row_heading level0 row2\" >winner_model_b</th>\n",
       "      <td id=\"T_3f047_row2_col0\" class=\"data row2 col0\" >float64</td>\n",
       "      <td id=\"T_3f047_row2_col1\" class=\"data row2 col1\" >0</td>\n",
       "      <td id=\"T_3f047_row2_col2\" class=\"data row2 col2\" >0.000000</td>\n",
       "      <td id=\"T_3f047_row2_col3\" class=\"data row2 col3\" >1</td>\n",
       "    </tr>\n",
       "    <tr>\n",
       "      <th id=\"T_3f047_level0_row3\" class=\"row_heading level0 row3\" >winner_tie</th>\n",
       "      <td id=\"T_3f047_row3_col0\" class=\"data row3 col0\" >float64</td>\n",
       "      <td id=\"T_3f047_row3_col1\" class=\"data row3 col1\" >0</td>\n",
       "      <td id=\"T_3f047_row3_col2\" class=\"data row3 col2\" >0.000000</td>\n",
       "      <td id=\"T_3f047_row3_col3\" class=\"data row3 col3\" >1</td>\n",
       "    </tr>\n",
       "  </tbody>\n",
       "</table>\n"
      ],
      "text/plain": [
       "<pandas.io.formats.style.Styler at 0x2bed9811f90>"
      ]
     },
     "metadata": {},
     "output_type": "display_data"
    },
    {
     "data": {
      "text/markdown": [
       "### Consistencia con `sample_submission`\n",
       "- **Llave común detectada:** `id`"
      ],
      "text/plain": [
       "<IPython.core.display.Markdown object>"
      ]
     },
     "metadata": {},
     "output_type": "display_data"
    },
    {
     "data": {
      "text/markdown": [
       "- Duplicados en `test[id]`: **0**  \n",
       "- Duplicados en `sample_submission[id]`: **0**"
      ],
      "text/plain": [
       "<IPython.core.display.Markdown object>"
      ]
     },
     "metadata": {},
     "output_type": "display_data"
    },
    {
     "data": {
      "text/markdown": [
       "- Claves de `test` **no** presentes en `sample_submission`: **0**  \n",
       "- Claves de `sample_submission` **no** presentes en `test`: **0**"
      ],
      "text/plain": [
       "<IPython.core.display.Markdown object>"
      ]
     },
     "metadata": {},
     "output_type": "display_data"
    },
    {
     "data": {
      "text/markdown": [
       "- ✅ `len(test)` coincide con `len(sample_submission)`."
      ],
      "text/plain": [
       "<IPython.core.display.Markdown object>"
      ]
     },
     "metadata": {},
     "output_type": "display_data"
    },
    {
     "data": {
      "text/markdown": [
       "### Etiqueta en `train`\n",
       "- ⚠️ **No se detectó automáticamente una columna de etiqueta** (busqué ['winner', 'label', 'chosen', 'target', 'preference', 'y']). Indica el nombre correcto si difiere."
      ],
      "text/plain": [
       "<IPython.core.display.Markdown object>"
      ]
     },
     "metadata": {},
     "output_type": "display_data"
    },
    {
     "data": {
      "text/markdown": [
       "> **Listo.** Datos cargados y chequeos básicos completados. Continúa con el siguiente paso cuando digas **“siguiente”**."
      ],
      "text/plain": [
       "<IPython.core.display.Markdown object>"
      ]
     },
     "metadata": {},
     "output_type": "display_data"
    }
   ],
   "source": [
    "import platform\n",
    "from pathlib import Path\n",
    "from typing import List, Optional\n",
    "\n",
    "import numpy as np\n",
    "import pandas as pd\n",
    "from IPython.display import display, Markdown\n",
    "\n",
    "# ---------- Utilidades ----------\n",
    "pd.set_option(\"display.max_colwidth\", 140)\n",
    "pd.set_option(\"display.width\", 140)\n",
    "\n",
    "def md(txt: str):\n",
    "    display(Markdown(txt))\n",
    "\n",
    "def read_csv_safe(path: Path) -> pd.DataFrame:\n",
    "    \"\"\"Lee CSV probando varios encodings comunes.\"\"\"\n",
    "    last_err = None\n",
    "    for enc in (\"utf-8\", \"utf-8-sig\", \"latin-1\"):\n",
    "        try:\n",
    "            return pd.read_csv(path, encoding=enc)\n",
    "        except Exception as e:\n",
    "            last_err = e\n",
    "    raise last_err\n",
    "\n",
    "def short_info(df: pd.DataFrame) -> pd.DataFrame:\n",
    "    \"\"\"Resumen compacto: dtype, nulos y únicos (con límite).\"\"\"\n",
    "    nunique = df.nunique(dropna=False)\n",
    "    out = pd.DataFrame({\n",
    "        \"dtype\": df.dtypes.astype(str),\n",
    "        \"n_null\": df.isna().sum(),\n",
    "        \"pct_null\": (df.isna().mean() * 100).round(2),\n",
    "        \"n_unique\": nunique\n",
    "    }).sort_index()\n",
    "    return out\n",
    "\n",
    "def find_common_key(df_a: pd.DataFrame, df_b: pd.DataFrame) -> Optional[str]:\n",
    "    \"\"\"Intenta identificar una llave común razonable entre dos DataFrames.\"\"\"\n",
    "    candidate_order = [\"id\",\"pair_id\",\"row_id\",\"example_id\",\"prediction_id\",\"battle_id\"]\n",
    "    common = set(df_a.columns) & set(df_b.columns)\n",
    "    # Prioriza candidatas conocidas\n",
    "    for c in candidate_order:\n",
    "        if c in common:\n",
    "            return c\n",
    "    # Si no hay conocidas, intenta cualquiera que sea única en ambos\n",
    "    for c in sorted(common):\n",
    "        if df_a[c].is_unique and df_b[c].is_unique:\n",
    "            return c\n",
    "    return None\n",
    "\n",
    "# ---------- 1) Entorno ----------\n",
    "md(\"### Entorno\\n\"\n",
    "   f\"- Python: `{platform.python_version()}`  \\n\"\n",
    "   f\"- Pandas: `{pd.__version__}`  \\n\"\n",
    "   f\"- Plataforma: `{platform.platform()}`\")\n",
    "\n",
    "# Detecta carpeta de datos: primero ./data, si no existe usa /mnt/data\n",
    "DATA_DIR = Path(\"data\") if Path(\"data\").exists() else Path(\"/mnt/data\")\n",
    "assert DATA_DIR.exists(), \"No se encontró carpeta de datos. Crea `./data/` o coloca los CSV en `/mnt/data`.\"\n",
    "md(f\"**Carpeta de datos:** `{DATA_DIR}`\")\n",
    "\n",
    "paths = {\n",
    "    \"train\": DATA_DIR / \"train.csv\",\n",
    "    \"test\": DATA_DIR / \"test.csv\",\n",
    "    \"submit\": DATA_DIR / \"sample_submission.csv\",\n",
    "}\n",
    "for k, p in paths.items():\n",
    "    assert p.exists(), f\"No se encontró `{p}`\"\n",
    "\n",
    "# ---------- 2) Lectura ----------\n",
    "df_train = read_csv_safe(paths[\"train\"])\n",
    "df_test  = read_csv_safe(paths[\"test\"])\n",
    "df_submit = read_csv_safe(paths[\"submit\"])\n",
    "\n",
    "md(\"### Tamaños y columnas\")\n",
    "md(f\"- `train`: {df_train.shape}  \\n- `test`: {df_test.shape}  \\n- `sample_submission`: {df_submit.shape}\")\n",
    "\n",
    "# Columnas “fantasma”\n",
    "ghost_cols = [c for c in df_train.columns if c.lower().startswith(\"unnamed\")] + \\\n",
    "             [c for c in df_test.columns if c.lower().startswith(\"unnamed\")]\n",
    "ghost_cols = sorted(set(ghost_cols))\n",
    "if ghost_cols:\n",
    "    md(f\"**Columnas fantasma detectadas (revísalas/elimínalas si aplica):** `{ghost_cols}`\")\n",
    "else:\n",
    "    md(\"**Sin columnas fantasma detectadas.**\")\n",
    "\n",
    "# ---------- 3) Esquema y tipos ----------\n",
    "md(\"### Esquema (dtypes, nulos y únicos)\")\n",
    "display(short_info(df_train).head(20).style.set_caption(\"train — primeras 20 filas del resumen\"))\n",
    "display(short_info(df_test).head(20).style.set_caption(\"test — primeras 20 filas del resumen\"))\n",
    "display(short_info(df_submit).head(20).style.set_caption(\"sample_submission — primeras 20 filas del resumen\"))\n",
    "\n",
    "# ---------- 4) Consistencia test vs sample_submission ----------\n",
    "key = find_common_key(df_test, df_submit)\n",
    "if key is not None:\n",
    "    md(f\"### Consistencia con `sample_submission`\\n- **Llave común detectada:** `{key}`\")\n",
    "    # Duplicados\n",
    "    dup_test = df_test.duplicated(subset=[key]).sum()\n",
    "    dup_subm = df_submit.duplicated(subset=[key]).sum()\n",
    "    md(f\"- Duplicados en `test[{key}]`: **{dup_test}**  \\n- Duplicados en `sample_submission[{key}]`: **{dup_subm}**\")\n",
    "    # Cobertura\n",
    "    miss_in_sub = (~df_test[key].isin(df_submit[key])).sum()\n",
    "    miss_in_test = (~df_submit[key].isin(df_test[key])).sum()\n",
    "    md(f\"- Claves de `test` **no** presentes en `sample_submission`: **{miss_in_sub}**  \\n\"\n",
    "       f\"- Claves de `sample_submission` **no** presentes en `test`: **{miss_in_test}**\")\n",
    "    # Conteo esperado\n",
    "    if len(df_test) == len(df_submit):\n",
    "        md(\"- ✅ `len(test)` coincide con `len(sample_submission)`.\")\n",
    "    else:\n",
    "        md(f\"- ⚠️ `len(test)` (**{len(df_test)}**) **≠** `len(sample_submission)` (**{len(df_submit)}**).\")\n",
    "else:\n",
    "    md(\"### Consistencia con `sample_submission`\\n- ⚠️ **No se encontró una llave común obvia** entre `test` y `sample_submission`. \"\n",
    "       \"Revisa los nombres de columnas; idealmente deben compartir un identificador (ej. `id`, `pair_id`).\")\n",
    "\n",
    "# ---------- 5) Exploración de la etiqueta en train ----------\n",
    "label_candidates: List[str] = [\"winner\",\"label\",\"chosen\",\"target\",\"preference\",\"y\"]\n",
    "present = [c for c in label_candidates if c in df_train.columns]\n",
    "if present:\n",
    "    y_col = present[0]\n",
    "    md(f\"### Etiqueta detectada en `train`: `{y_col}`\")\n",
    "    vc = df_train[y_col].value_counts(dropna=False)\n",
    "    md(f\"- Valores y frecuencia:\\n\\n```\\n{vc.to_string()}\\n```\")\n",
    "    md(f\"- Nulos en `{y_col}`: **{df_train[y_col].isna().sum()}**\")\n",
    "else:\n",
    "    md(\"### Etiqueta en `train`\\n- ⚠️ **No se detectó automáticamente una columna de etiqueta** \"\n",
    "       f\"(busqué {label_candidates}). Indica el nombre correcto si difiere.\")\n",
    "\n",
    "md(\"> **Listo.** Datos cargados y chequeos básicos completados. Continúa con el siguiente paso cuando digas **“siguiente”**.\")\n"
   ]
  },
  {
   "cell_type": "markdown",
   "id": "ee6193ef",
   "metadata": {},
   "source": [
    "# Chequeo inicial de datos — resumen y lectura crítica (yo)\n",
    "\n",
    "## Entorno\n",
    "- **Python:** 3.13.2  \n",
    "- **Pandas:** 2.2.3  \n",
    "- **Plataforma:** Windows-10-10.0.19045-SP0  \n",
    "- **Carpeta de datos:** `data/`\n",
    "\n",
    "---\n",
    "\n",
    "## Tamaños y columnas\n",
    "- **train:** (57477, 9)  \n",
    "- **test:** (3, 4)  \n",
    "- **sample_submission:** (3, 4)  \n",
    "- ✅ **Sin** columnas fantasma detectadas.\n",
    "\n",
    "---\n",
    "\n",
    "## Esquema (dtypes, nulos, únicos)\n",
    "\n",
    "**train**\n",
    "- `id` (int64) — únicos: 57477\n",
    "- `model_a` (object) — 64 valores\n",
    "- `model_b` (object) — 64 valores\n",
    "- `prompt` (object) — 51734 valores\n",
    "- `response_a` (object) — 56566 valores\n",
    "- `response_b` (object) — 56609 valores\n",
    "- `winner_model_a` (int64) — {0,1}\n",
    "- `winner_model_b` (int64) — {0,1}\n",
    "- `winner_tie` (int64) — {0,1}\n",
    "\n",
    "**test**\n",
    "- `id`, `prompt`, `response_a`, `response_b` — 3 registros, sin nulos.\n",
    "\n",
    "**sample_submission**\n",
    "- `id` + columnas objetivo: `winner_model_a`, `winner_model_b`, `winner_tie` (float64)\n",
    "\n",
    "---\n",
    "\n",
    "## Consistencia con `sample_submission`\n",
    "- **Llave común:** `id`\n",
    "- Duplicados en `test[id]`: **0**\n",
    "- Duplicados en `sample_submission[id]`: **0**\n",
    "- Claves de `test` no presentes en `sample_submission`: **0**\n",
    "- Claves de `sample_submission` no presentes en `test`: **0**\n",
    "- ✅ `len(test)` == `len(sample_submission)`\n",
    "\n",
    "---\n",
    "\n",
    "## Etiquetas / objetivo\n",
    "- No hay una única columna `label`.  \n",
    "- Mi **objetivo** está en **formato one-hot** con tres flags:  \n",
    "  `winner_model_a`, `winner_model_b`, `winner_tie` (todas int64 en train, float en submission).  \n",
    "- Próximo chequeo que haré sobre `train`:  \n",
    "  - validar que por fila **sume 1** (`a+b+tie == 1`),  \n",
    "  - revisar **balance** de clases (tasas por categoría).\n",
    "\n",
    "---\n",
    "\n",
    "## Conclusiones rápidas\n",
    "- La lectura es limpia y los archivos **encajan** entre sí.  \n",
    "- El esquema sugiere un **problema multiclase (3 clases)** o **multi-salida calibrada** (predicciones de probabilidad por cada flag).  \n",
    "- No hay nulos ni columnas basura; `id` parece una llave buena.  \n",
    "- El train es grande (57k+ pares), lo cual permite separar validación \n",
    "\n"
   ]
  },
  {
   "cell_type": "markdown",
   "id": "e12498a5",
   "metadata": {},
   "source": [
    "\n",
    " # Celda 2 — Integridad de etiquetas (one-hot), missing/empties en texto, y duplicados clave\n",
    "\n",
    " **Qué hace esta celda**\n",
    " 1) **Valida** que las columnas objetivo (`winner_model_a`, `winner_model_b`, `winner_tie`) formen un **one-hot** por fila (suma=1) y sean binarias.\n",
    " 2) **Reporta balance de clases** en `train`.\n",
    " 3) **Cuantifica nulos y vacíos** (tras `strip`) en `prompt`, `response_a`, `response_b`.\n",
    " 4) **Detecta duplicados** de `id` y de la tupla `(prompt, response_a, response_b)`.\n",
    " 5) **Resume longitudes** (caracteres) de los textos para orientar límites de *tokenization* más adelante.\n"
   ]
  },
  {
   "cell_type": "code",
   "execution_count": 3,
   "id": "e9319163",
   "metadata": {},
   "outputs": [
    {
     "data": {
      "text/markdown": [
       "### Integridad de etiquetas (one-hot)"
      ],
      "text/plain": [
       "<IPython.core.display.Markdown object>"
      ]
     },
     "metadata": {},
     "output_type": "display_data"
    },
    {
     "data": {
      "text/markdown": [
       "- Columnas objetivo: `['winner_model_a', 'winner_model_b', 'winner_tie']`  \n",
       "- Filas con **suma != 1**: **0** (=0: 0, >1: 0)  \n",
       "- Binariedad por columna: `winner_model_a`=OK, `winner_model_b`=OK, `winner_tie`=OK"
      ],
      "text/plain": [
       "<IPython.core.display.Markdown object>"
      ]
     },
     "metadata": {},
     "output_type": "display_data"
    },
    {
     "data": {
      "text/markdown": [
       "**Balance de clases (train):**"
      ],
      "text/plain": [
       "<IPython.core.display.Markdown object>"
      ]
     },
     "metadata": {},
     "output_type": "display_data"
    },
    {
     "data": {
      "text/html": [
       "<style type=\"text/css\">\n",
       "</style>\n",
       "<table id=\"T_f2bd3\">\n",
       "  <caption>Combinaciones one-hot más frecuentes (esperado: solo 3 combinaciones válidas)</caption>\n",
       "  <thead>\n",
       "    <tr>\n",
       "      <th class=\"blank level0\" >&nbsp;</th>\n",
       "      <th id=\"T_f2bd3_level0_col0\" class=\"col_heading level0 col0\" >winner_model_a</th>\n",
       "      <th id=\"T_f2bd3_level0_col1\" class=\"col_heading level0 col1\" >winner_model_b</th>\n",
       "      <th id=\"T_f2bd3_level0_col2\" class=\"col_heading level0 col2\" >winner_tie</th>\n",
       "      <th id=\"T_f2bd3_level0_col3\" class=\"col_heading level0 col3\" >count</th>\n",
       "    </tr>\n",
       "  </thead>\n",
       "  <tbody>\n",
       "    <tr>\n",
       "      <th id=\"T_f2bd3_level0_row0\" class=\"row_heading level0 row0\" >0</th>\n",
       "      <td id=\"T_f2bd3_row0_col0\" class=\"data row0 col0\" >1</td>\n",
       "      <td id=\"T_f2bd3_row0_col1\" class=\"data row0 col1\" >0</td>\n",
       "      <td id=\"T_f2bd3_row0_col2\" class=\"data row0 col2\" >0</td>\n",
       "      <td id=\"T_f2bd3_row0_col3\" class=\"data row0 col3\" >20064</td>\n",
       "    </tr>\n",
       "    <tr>\n",
       "      <th id=\"T_f2bd3_level0_row1\" class=\"row_heading level0 row1\" >1</th>\n",
       "      <td id=\"T_f2bd3_row1_col0\" class=\"data row1 col0\" >0</td>\n",
       "      <td id=\"T_f2bd3_row1_col1\" class=\"data row1 col1\" >1</td>\n",
       "      <td id=\"T_f2bd3_row1_col2\" class=\"data row1 col2\" >0</td>\n",
       "      <td id=\"T_f2bd3_row1_col3\" class=\"data row1 col3\" >19652</td>\n",
       "    </tr>\n",
       "    <tr>\n",
       "      <th id=\"T_f2bd3_level0_row2\" class=\"row_heading level0 row2\" >2</th>\n",
       "      <td id=\"T_f2bd3_row2_col0\" class=\"data row2 col0\" >0</td>\n",
       "      <td id=\"T_f2bd3_row2_col1\" class=\"data row2 col1\" >0</td>\n",
       "      <td id=\"T_f2bd3_row2_col2\" class=\"data row2 col2\" >1</td>\n",
       "      <td id=\"T_f2bd3_row2_col3\" class=\"data row2 col3\" >17761</td>\n",
       "    </tr>\n",
       "  </tbody>\n",
       "</table>\n"
      ],
      "text/plain": [
       "<pandas.io.formats.style.Styler at 0x2bee3ff0910>"
      ]
     },
     "metadata": {},
     "output_type": "display_data"
    },
    {
     "data": {
      "text/markdown": [
       "### Nulos y vacíos en texto (train)"
      ],
      "text/plain": [
       "<IPython.core.display.Markdown object>"
      ]
     },
     "metadata": {},
     "output_type": "display_data"
    },
    {
     "data": {
      "text/html": [
       "<style type=\"text/css\">\n",
       "</style>\n",
       "<table id=\"T_bcbd0\">\n",
       "  <caption>train — nulos/vacíos</caption>\n",
       "  <thead>\n",
       "    <tr>\n",
       "      <th class=\"blank level0\" >&nbsp;</th>\n",
       "      <th id=\"T_bcbd0_level0_col0\" class=\"col_heading level0 col0\" >column</th>\n",
       "      <th id=\"T_bcbd0_level0_col1\" class=\"col_heading level0 col1\" >n_null</th>\n",
       "      <th id=\"T_bcbd0_level0_col2\" class=\"col_heading level0 col2\" >pct_null</th>\n",
       "      <th id=\"T_bcbd0_level0_col3\" class=\"col_heading level0 col3\" >n_empty</th>\n",
       "      <th id=\"T_bcbd0_level0_col4\" class=\"col_heading level0 col4\" >pct_empty</th>\n",
       "    </tr>\n",
       "  </thead>\n",
       "  <tbody>\n",
       "    <tr>\n",
       "      <th id=\"T_bcbd0_level0_row0\" class=\"row_heading level0 row0\" >0</th>\n",
       "      <td id=\"T_bcbd0_row0_col0\" class=\"data row0 col0\" >prompt</td>\n",
       "      <td id=\"T_bcbd0_row0_col1\" class=\"data row0 col1\" >0</td>\n",
       "      <td id=\"T_bcbd0_row0_col2\" class=\"data row0 col2\" >0.000000</td>\n",
       "      <td id=\"T_bcbd0_row0_col3\" class=\"data row0 col3\" >0</td>\n",
       "      <td id=\"T_bcbd0_row0_col4\" class=\"data row0 col4\" >0.000000</td>\n",
       "    </tr>\n",
       "    <tr>\n",
       "      <th id=\"T_bcbd0_level0_row1\" class=\"row_heading level0 row1\" >1</th>\n",
       "      <td id=\"T_bcbd0_row1_col0\" class=\"data row1 col0\" >response_a</td>\n",
       "      <td id=\"T_bcbd0_row1_col1\" class=\"data row1 col1\" >0</td>\n",
       "      <td id=\"T_bcbd0_row1_col2\" class=\"data row1 col2\" >0.000000</td>\n",
       "      <td id=\"T_bcbd0_row1_col3\" class=\"data row1 col3\" >0</td>\n",
       "      <td id=\"T_bcbd0_row1_col4\" class=\"data row1 col4\" >0.000000</td>\n",
       "    </tr>\n",
       "    <tr>\n",
       "      <th id=\"T_bcbd0_level0_row2\" class=\"row_heading level0 row2\" >2</th>\n",
       "      <td id=\"T_bcbd0_row2_col0\" class=\"data row2 col0\" >response_b</td>\n",
       "      <td id=\"T_bcbd0_row2_col1\" class=\"data row2 col1\" >0</td>\n",
       "      <td id=\"T_bcbd0_row2_col2\" class=\"data row2 col2\" >0.000000</td>\n",
       "      <td id=\"T_bcbd0_row2_col3\" class=\"data row2 col3\" >0</td>\n",
       "      <td id=\"T_bcbd0_row2_col4\" class=\"data row2 col4\" >0.000000</td>\n",
       "    </tr>\n",
       "  </tbody>\n",
       "</table>\n"
      ],
      "text/plain": [
       "<pandas.io.formats.style.Styler at 0x2bee3ff0910>"
      ]
     },
     "metadata": {},
     "output_type": "display_data"
    },
    {
     "data": {
      "text/markdown": [
       "### Nulos y vacíos en texto (test)"
      ],
      "text/plain": [
       "<IPython.core.display.Markdown object>"
      ]
     },
     "metadata": {},
     "output_type": "display_data"
    },
    {
     "data": {
      "text/html": [
       "<style type=\"text/css\">\n",
       "</style>\n",
       "<table id=\"T_c2a0a\">\n",
       "  <caption>test — nulos/vacíos</caption>\n",
       "  <thead>\n",
       "    <tr>\n",
       "      <th class=\"blank level0\" >&nbsp;</th>\n",
       "      <th id=\"T_c2a0a_level0_col0\" class=\"col_heading level0 col0\" >column</th>\n",
       "      <th id=\"T_c2a0a_level0_col1\" class=\"col_heading level0 col1\" >n_null</th>\n",
       "      <th id=\"T_c2a0a_level0_col2\" class=\"col_heading level0 col2\" >pct_null</th>\n",
       "      <th id=\"T_c2a0a_level0_col3\" class=\"col_heading level0 col3\" >n_empty</th>\n",
       "      <th id=\"T_c2a0a_level0_col4\" class=\"col_heading level0 col4\" >pct_empty</th>\n",
       "    </tr>\n",
       "  </thead>\n",
       "  <tbody>\n",
       "    <tr>\n",
       "      <th id=\"T_c2a0a_level0_row0\" class=\"row_heading level0 row0\" >0</th>\n",
       "      <td id=\"T_c2a0a_row0_col0\" class=\"data row0 col0\" >prompt</td>\n",
       "      <td id=\"T_c2a0a_row0_col1\" class=\"data row0 col1\" >0</td>\n",
       "      <td id=\"T_c2a0a_row0_col2\" class=\"data row0 col2\" >0.000000</td>\n",
       "      <td id=\"T_c2a0a_row0_col3\" class=\"data row0 col3\" >0</td>\n",
       "      <td id=\"T_c2a0a_row0_col4\" class=\"data row0 col4\" >0.000000</td>\n",
       "    </tr>\n",
       "    <tr>\n",
       "      <th id=\"T_c2a0a_level0_row1\" class=\"row_heading level0 row1\" >1</th>\n",
       "      <td id=\"T_c2a0a_row1_col0\" class=\"data row1 col0\" >response_a</td>\n",
       "      <td id=\"T_c2a0a_row1_col1\" class=\"data row1 col1\" >0</td>\n",
       "      <td id=\"T_c2a0a_row1_col2\" class=\"data row1 col2\" >0.000000</td>\n",
       "      <td id=\"T_c2a0a_row1_col3\" class=\"data row1 col3\" >0</td>\n",
       "      <td id=\"T_c2a0a_row1_col4\" class=\"data row1 col4\" >0.000000</td>\n",
       "    </tr>\n",
       "    <tr>\n",
       "      <th id=\"T_c2a0a_level0_row2\" class=\"row_heading level0 row2\" >2</th>\n",
       "      <td id=\"T_c2a0a_row2_col0\" class=\"data row2 col0\" >response_b</td>\n",
       "      <td id=\"T_c2a0a_row2_col1\" class=\"data row2 col1\" >0</td>\n",
       "      <td id=\"T_c2a0a_row2_col2\" class=\"data row2 col2\" >0.000000</td>\n",
       "      <td id=\"T_c2a0a_row2_col3\" class=\"data row2 col3\" >0</td>\n",
       "      <td id=\"T_c2a0a_row2_col4\" class=\"data row2 col4\" >0.000000</td>\n",
       "    </tr>\n",
       "  </tbody>\n",
       "</table>\n"
      ],
      "text/plain": [
       "<pandas.io.formats.style.Styler at 0x2bee3ff0910>"
      ]
     },
     "metadata": {},
     "output_type": "display_data"
    },
    {
     "data": {
      "text/markdown": [
       "### Duplicados"
      ],
      "text/plain": [
       "<IPython.core.display.Markdown object>"
      ]
     },
     "metadata": {},
     "output_type": "display_data"
    },
    {
     "data": {
      "text/markdown": [
       "- Duplicados en `train.id`: **0**"
      ],
      "text/plain": [
       "<IPython.core.display.Markdown object>"
      ]
     },
     "metadata": {},
     "output_type": "display_data"
    },
    {
     "data": {
      "text/markdown": [
       "- Duplicados exactos por `(prompt, response_a, response_b)` en train: **71**"
      ],
      "text/plain": [
       "<IPython.core.display.Markdown object>"
      ]
     },
     "metadata": {},
     "output_type": "display_data"
    },
    {
     "data": {
      "text/html": [
       "<div>\n",
       "<style scoped>\n",
       "    .dataframe tbody tr th:only-of-type {\n",
       "        vertical-align: middle;\n",
       "    }\n",
       "\n",
       "    .dataframe tbody tr th {\n",
       "        vertical-align: top;\n",
       "    }\n",
       "\n",
       "    .dataframe thead th {\n",
       "        text-align: right;\n",
       "    }\n",
       "</style>\n",
       "<table border=\"1\" class=\"dataframe\">\n",
       "  <thead>\n",
       "    <tr style=\"text-align: right;\">\n",
       "      <th></th>\n",
       "      <th>prompt</th>\n",
       "      <th>response_a</th>\n",
       "      <th>response_b</th>\n",
       "    </tr>\n",
       "  </thead>\n",
       "  <tbody>\n",
       "    <tr>\n",
       "      <th>777</th>\n",
       "      <td>[\"Respond only with the letter of the correct answer:\\n\\nWhich weighs more, one pound of feathers or two pounds of bricks?\\n\\nA: The fea...</td>\n",
       "      <td>[\"B: The bricks\"]</td>\n",
       "      <td>[\"C\"]</td>\n",
       "    </tr>\n",
       "    <tr>\n",
       "      <th>1035</th>\n",
       "      <td>[\"hi there\"]</td>\n",
       "      <td>[\"Hello! How can I assist you today?\"]</td>\n",
       "      <td>[\"Hello! How can I assist you today?\"]</td>\n",
       "    </tr>\n",
       "    <tr>\n",
       "      <th>1777</th>\n",
       "      <td>[\"Answer the following statements with \\\"Agree\\\" or \\\"Disagree\\\" only. You answers should be returned in list form, in the same order th...</td>\n",
       "      <td>[\"Sure, here are my answers to your questions:\\n\\n1. Disagree\\n2. Disagree\\n3. Agree\\n4. Disagree\\n5. Agree\\n6. Agree\\n7. Disagree\\n8. D...</td>\n",
       "      <td>[\"Sure, here are my answers:\\n\\n1. Disagree\\n2. Disagree\\n3. Agree\\n4. Disagree\\n5. Agree\\n6. Agree\\n7. Disagree\\n8. Disagree\\n9. Disagr...</td>\n",
       "    </tr>\n",
       "    <tr>\n",
       "      <th>2195</th>\n",
       "      <td>[\"write a single dot\"]</td>\n",
       "      <td>[\".\"]</td>\n",
       "      <td>[\".\"]</td>\n",
       "    </tr>\n",
       "    <tr>\n",
       "      <th>2998</th>\n",
       "      <td>[\"what is the capital of france\"]</td>\n",
       "      <td>[\"The capital of France is Paris.\"]</td>\n",
       "      <td>[\"The capital of France is Paris.\"]</td>\n",
       "    </tr>\n",
       "  </tbody>\n",
       "</table>\n",
       "</div>"
      ],
      "text/plain": [
       "                                                                                                                                           prompt  \\\n",
       "777   [\"Respond only with the letter of the correct answer:\\n\\nWhich weighs more, one pound of feathers or two pounds of bricks?\\n\\nA: The fea...   \n",
       "1035                                                                                                                                 [\"hi there\"]   \n",
       "1777  [\"Answer the following statements with \\\"Agree\\\" or \\\"Disagree\\\" only. You answers should be returned in list form, in the same order th...   \n",
       "2195                                                                                                                       [\"write a single dot\"]   \n",
       "2998                                                                                                            [\"what is the capital of france\"]   \n",
       "\n",
       "                                                                                                                                       response_a  \\\n",
       "777                                                                                                                             [\"B: The bricks\"]   \n",
       "1035                                                                                                       [\"Hello! How can I assist you today?\"]   \n",
       "1777  [\"Sure, here are my answers to your questions:\\n\\n1. Disagree\\n2. Disagree\\n3. Agree\\n4. Disagree\\n5. Agree\\n6. Agree\\n7. Disagree\\n8. D...   \n",
       "2195                                                                                                                                        [\".\"]   \n",
       "2998                                                                                                          [\"The capital of France is Paris.\"]   \n",
       "\n",
       "                                                                                                                                       response_b  \n",
       "777                                                                                                                                         [\"C\"]  \n",
       "1035                                                                                                       [\"Hello! How can I assist you today?\"]  \n",
       "1777  [\"Sure, here are my answers:\\n\\n1. Disagree\\n2. Disagree\\n3. Agree\\n4. Disagree\\n5. Agree\\n6. Agree\\n7. Disagree\\n8. Disagree\\n9. Disagr...  \n",
       "2195                                                                                                                                        [\".\"]  \n",
       "2998                                                                                                          [\"The capital of France is Paris.\"]  "
      ]
     },
     "metadata": {},
     "output_type": "display_data"
    },
    {
     "data": {
      "text/markdown": [
       "### Longitudes de texto (caracteres) — percentiles"
      ],
      "text/plain": [
       "<IPython.core.display.Markdown object>"
      ]
     },
     "metadata": {},
     "output_type": "display_data"
    },
    {
     "data": {
      "text/html": [
       "<style type=\"text/css\">\n",
       "</style>\n",
       "<table id=\"T_7a35f\">\n",
       "  <caption>Quantiles de longitud (train)</caption>\n",
       "  <thead>\n",
       "    <tr>\n",
       "      <th class=\"blank level0\" >&nbsp;</th>\n",
       "      <th id=\"T_7a35f_level0_col0\" class=\"col_heading level0 col0\" >p50</th>\n",
       "      <th id=\"T_7a35f_level0_col1\" class=\"col_heading level0 col1\" >p90</th>\n",
       "      <th id=\"T_7a35f_level0_col2\" class=\"col_heading level0 col2\" >p95</th>\n",
       "      <th id=\"T_7a35f_level0_col3\" class=\"col_heading level0 col3\" >p99</th>\n",
       "      <th id=\"T_7a35f_level0_col4\" class=\"col_heading level0 col4\" >p100</th>\n",
       "    </tr>\n",
       "  </thead>\n",
       "  <tbody>\n",
       "    <tr>\n",
       "      <th id=\"T_7a35f_level0_row0\" class=\"row_heading level0 row0\" >prompt</th>\n",
       "      <td id=\"T_7a35f_row0_col0\" class=\"data row0 col0\" >96.000000</td>\n",
       "      <td id=\"T_7a35f_row0_col1\" class=\"data row0 col1\" >784.000000</td>\n",
       "      <td id=\"T_7a35f_row0_col2\" class=\"data row0 col2\" >1471.000000</td>\n",
       "      <td id=\"T_7a35f_row0_col3\" class=\"data row0 col3\" >4920.400000</td>\n",
       "      <td id=\"T_7a35f_row0_col4\" class=\"data row0 col4\" >33056.000000</td>\n",
       "    </tr>\n",
       "    <tr>\n",
       "      <th id=\"T_7a35f_level0_row1\" class=\"row_heading level0 row1\" >response_a</th>\n",
       "      <td id=\"T_7a35f_row1_col0\" class=\"data row1 col0\" >1076.000000</td>\n",
       "      <td id=\"T_7a35f_row1_col1\" class=\"data row1 col1\" >2787.000000</td>\n",
       "      <td id=\"T_7a35f_row1_col2\" class=\"data row1 col2\" >3721.000000</td>\n",
       "      <td id=\"T_7a35f_row1_col3\" class=\"data row1 col3\" >7004.920000</td>\n",
       "      <td id=\"T_7a35f_row1_col4\" class=\"data row1 col4\" >54058.000000</td>\n",
       "    </tr>\n",
       "    <tr>\n",
       "      <th id=\"T_7a35f_level0_row2\" class=\"row_heading level0 row2\" >response_b</th>\n",
       "      <td id=\"T_7a35f_row2_col0\" class=\"data row2 col0\" >1086.000000</td>\n",
       "      <td id=\"T_7a35f_row2_col1\" class=\"data row2 col1\" >2781.400000</td>\n",
       "      <td id=\"T_7a35f_row2_col2\" class=\"data row2 col2\" >3709.000000</td>\n",
       "      <td id=\"T_7a35f_row2_col3\" class=\"data row2 col3\" >7071.480000</td>\n",
       "      <td id=\"T_7a35f_row2_col4\" class=\"data row2 col4\" >53830.000000</td>\n",
       "    </tr>\n",
       "  </tbody>\n",
       "</table>\n"
      ],
      "text/plain": [
       "<pandas.io.formats.style.Styler at 0x2bee3ff0910>"
      ]
     },
     "metadata": {},
     "output_type": "display_data"
    }
   ],
   "source": [
    "import numpy as np\n",
    "import pandas as pd\n",
    "from IPython.display import display, Markdown\n",
    "\n",
    "def md(s: str):\n",
    "    display(Markdown(s))\n",
    "\n",
    "# ---------- 1) Integridad de etiquetas one-hot ----------\n",
    "target_cols = [c for c in [\"winner_model_a\", \"winner_model_b\", \"winner_tie\"] if c in df_train.columns]\n",
    "assert len(target_cols) == 3, f\"Esperaba 3 columnas objetivo, encontré: {target_cols}\"\n",
    "\n",
    "row_sum = df_train[target_cols].sum(axis=1)\n",
    "viol_sum_ne1 = (row_sum != 1).sum()\n",
    "viol_sum_0 = (row_sum == 0).sum()\n",
    "viol_sum_gt1 = (row_sum > 1).sum()\n",
    "\n",
    "# binariedad por columna\n",
    "bin_ok = {c: df_train[c].isin([0, 1]).all() for c in target_cols}\n",
    "\n",
    "md(\"### Integridad de etiquetas (one-hot)\")\n",
    "md(f\"- Columnas objetivo: `{target_cols}`  \\n\"\n",
    "   f\"- Filas con **suma != 1**: **{viol_sum_ne1}** \"\n",
    "   f\"(=0: {viol_sum_0}, >1: {viol_sum_gt1})  \\n\"\n",
    "   f\"- Binariedad por columna: \" + \", \".join([f\"`{c}`={'OK' if ok else 'NO'}\" for c, ok in bin_ok.items()]))\n",
    "\n",
    "md(\"**Balance de clases (train):**\")\n",
    "display(\n",
    "    df_train[target_cols]\n",
    "    .astype(\"int64\")\n",
    "    .value_counts()\n",
    "    .rename(\"count\")\n",
    "    .reset_index()\n",
    "    .sort_values(\"count\", ascending=False)\n",
    "    .style.set_caption(\"Combinaciones one-hot más frecuentes (esperado: solo 3 combinaciones válidas)\")\n",
    ")\n",
    "\n",
    "# ---------- 2) Missing & vacíos en texto ----------\n",
    "text_cols = [c for c in [\"prompt\", \"response_a\", \"response_b\"] if c in df_train.columns]\n",
    "assert set(text_cols) == {\"prompt\", \"response_a\", \"response_b\"}, f\"Faltan columnas de texto esperadas: {text_cols}\"\n",
    "\n",
    "def empties_report(df: pd.DataFrame, cols):\n",
    "    rep = []\n",
    "    for c in cols:\n",
    "        n_null = df[c].isna().sum()\n",
    "        n_empty = df[c].astype(str).str.strip().eq(\"\").sum()\n",
    "        rep.append({\"column\": c, \"n_null\": n_null, \"pct_null\": round(100*n_null/len(df),2),\n",
    "                    \"n_empty\": n_empty, \"pct_empty\": round(100*n_empty/len(df),2)})\n",
    "    return pd.DataFrame(rep)\n",
    "\n",
    "md(\"### Nulos y vacíos en texto (train)\")\n",
    "display(empties_report(df_train, text_cols).style.set_caption(\"train — nulos/vacíos\"))\n",
    "md(\"### Nulos y vacíos en texto (test)\")\n",
    "display(empties_report(df_test, text_cols).style.set_caption(\"test — nulos/vacíos\"))\n",
    "\n",
    "# ---------- 3) Duplicados ----------\n",
    "md(\"### Duplicados\")\n",
    "dup_id_train = df_train[\"id\"].duplicated().sum()\n",
    "md(f\"- Duplicados en `train.id`: **{dup_id_train}**\")\n",
    "if dup_id_train:\n",
    "    display(df_train[df_train[\"id\"].duplicated(keep=False)].sort_values(\"id\").head(10))\n",
    "\n",
    "# Duplicados exactos por tripleta de texto en train\n",
    "trip_cols = [\"prompt\", \"response_a\", \"response_b\"]\n",
    "dup_trip = df_train.duplicated(subset=trip_cols).sum()\n",
    "md(f\"- Duplicados exactos por `(prompt, response_a, response_b)` en train: **{dup_trip}**\")\n",
    "if dup_trip:\n",
    "    display(df_train[df_train.duplicated(subset=trip_cols, keep=False)][trip_cols].head(5))\n",
    "\n",
    "# ---------- 4) Longitudes de texto ----------\n",
    "md(\"### Longitudes de texto (caracteres) — percentiles\")\n",
    "q = [0.5, 0.9, 0.95, 0.99, 1.0]\n",
    "len_stats = (\n",
    "    pd.DataFrame({\n",
    "        c: df_train[c].astype(str).str.len().quantile(q).rename(c) for c in text_cols\n",
    "    })\n",
    "    .T\n",
    ")\n",
    "len_stats.columns = [f\"p{int(p*100)}\" for p in q]\n",
    "display(len_stats.style.set_caption(\"Quantiles de longitud (train)\"))\n",
    "\n",
    "\n"
   ]
  },
  {
   "cell_type": "markdown",
   "id": "9e17136d",
   "metadata": {},
   "source": [
    "# Análisis de verificación de datos (tercera persona)\n",
    "\n",
    "## 1) Integridad de etiquetas (one-hot)\n",
    "- **Columnas objetivo:** `winner_model_a`, `winner_model_b`, `winner_tie`.\n",
    "- **Suma por fila:** 0 filas con `suma != 1` (=`0`: 0, `>1`: 0) → **one-hot correcto**.\n",
    "- **Binariedad:** todas las columnas son {0,1} → **OK**.\n",
    "\n",
    "**Balance de clases (train)**  \n",
    "- A gana: **20,064**  \n",
    "- B gana: **19,652**  \n",
    "- Empate: **17,761**  \n",
    "> Distribución **razonablemente balanceada** (ligera menor proporción de empates). No se anticipan problemas severos por desbalance.\n",
    "\n",
    "---\n",
    "\n",
    "## 2) Calidad de texto (nulos y vacíos)\n",
    "**Train y Test**\n",
    "- `prompt`, `response_a`, `response_b`: **0 nulos** y **0 vacíos**.  \n",
    "> Señal de **consistencia** y **completitud** en los campos clave.\n",
    "\n",
    "---\n",
    "\n",
    "## 3) Duplicados\n",
    "- `train.id`: **0** duplicados.\n",
    "- Tripleta exacta `(prompt, response_a, response_b)`: **71** duplicados.\n",
    "\n",
    "**Muestra de casos relevantes**\n",
    "- Prompt tipo trivias/fácticos con **respuestas idénticas** en `response_a` y `response_b` (p. ej., *“The capital of France is Paris.”* en ambos).  \n",
    "- Casos mínimos (p. ej., *“write a single dot”* → `\".\"` vs `\".\"`).  \n",
    "> **Riesgo**: estos duplicados pueden introducir **fuga** o **sobre-representar patrones triviales**; además, cuando `A==B` debería esperarse **`winner_tie=1`**. Si no coincide, habría **ruido de etiqueta**.\n",
    "\n",
    "**Recomendación**  \n",
    "- Deduplicar por tripleta exacta (conservando la primera aparición) o **agrupar y consolidar** si hay incoherencias de etiqueta dentro del grupo.\n",
    "\n",
    "---\n",
    "\n",
    "## 4) Longitud de textos (caracteres) — percentiles (train)\n",
    "- **Prompt:** p50=96, p90=784, p95=1,471, p99≈4,920, p100=33,056  \n",
    "- **Response A:** p50=1,076, p90=2,787, p95=3,721, p99≈7,005, p100=54,058  \n",
    "- **Response B:** p50=1,086, p90=2,781, p95=3,709, p99≈7,071, p100=53,830  \n",
    "\n",
    "> Distribuciones con **colas largas** (outliers muy extensos). Se sugiere fijar límites de longitud/tokens (p. ej., **p99** como referencia) o aplicar truncado controlado para evitar **OOM** y sesgos por longitud.\n",
    "\n",
    "---\n",
    "\n",
    "## 5) Conclusiones operativas\n",
    "1. **Etiquetas:** válidas y en estricto one-hot → listo para entrenamiento multiclase/multi-salida.  \n",
    "2. **Datos faltantes:** inexistentes en campos críticos → no se requiere imputación.  \n",
    "3. **Duplicados:** 71 tripletas idénticas → **deduplicar** y **verificar coherencia** con `winner_tie`.  \n",
    "4. **Longitud:** presencia de textos extremadamente largos → **definir `max_len`** (tokens/caracteres) y política de truncado.  \n",
    "\n",
    "**Siguientes pasos sugeridos**\n",
    "- (a) Limpieza normalizada de texto (Unicode NFC, control chars, espacios) sin alterar semántica.  \n",
    "- (b) Detección y mitigación de **sesgo por longitud** y **sesgo de posición** (A vs B).  \n",
    "- (c) Deduplicación y reporte de impacto (cuántas filas se eliminan).  \n",
    "- (d) Definir *split* sin fuga (por `prompt` o grupos adecuados) y persistir `*_clean.parquet`.\n"
   ]
  },
  {
   "cell_type": "markdown",
   "id": "4884b53b",
   "metadata": {},
   "source": [
    "\n",
    " # Celda 3 — Limpieza normalizada de texto, flags de calidad y deduplicación segura\n",
    "\n",
    " **Qué hace esta celda**\n",
    " 1) Define una función de **limpieza no-destructiva**: normaliza Unicode (NFC), estandariza saltos de línea,\n",
    "    elimina caracteres de control (salvando `\\n` y `\\t`) y colapsa espacios redundantes sin alterar la semántica.\n",
    " 2) Aplica la limpieza a `prompt`, `response_a`, `response_b` en `train` y `test`, **reportando cuántas filas cambiaron** por columna.\n",
    " 3) Crea `df_train_clean` / `df_test_clean` (copias limpias) y marca **casos sospechosos de empate** (`response_a == response_b` pero la etiqueta no es `winner_tie`).\n",
    " 4) **Deduplica** por la tripleta exacta `(prompt, response_a, response_b)` en `train` limpio (mantiene la primera ocurrencia) y reporta removidos.\n",
    "\n"
   ]
  },
  {
   "cell_type": "code",
   "execution_count": 5,
   "id": "3d18e259",
   "metadata": {},
   "outputs": [
    {
     "data": {
      "text/markdown": [
       "### Cambios por columna tras limpieza"
      ],
      "text/plain": [
       "<IPython.core.display.Markdown object>"
      ]
     },
     "metadata": {},
     "output_type": "display_data"
    },
    {
     "data": {
      "text/html": [
       "<div>\n",
       "<style scoped>\n",
       "    .dataframe tbody tr th:only-of-type {\n",
       "        vertical-align: middle;\n",
       "    }\n",
       "\n",
       "    .dataframe tbody tr th {\n",
       "        vertical-align: top;\n",
       "    }\n",
       "\n",
       "    .dataframe thead th {\n",
       "        text-align: right;\n",
       "    }\n",
       "</style>\n",
       "<table border=\"1\" class=\"dataframe\">\n",
       "  <thead>\n",
       "    <tr style=\"text-align: right;\">\n",
       "      <th></th>\n",
       "      <th>split</th>\n",
       "      <th>column</th>\n",
       "      <th>changed_rows</th>\n",
       "      <th>pct_changed</th>\n",
       "    </tr>\n",
       "  </thead>\n",
       "  <tbody>\n",
       "    <tr>\n",
       "      <th>0</th>\n",
       "      <td>train</td>\n",
       "      <td>prompt</td>\n",
       "      <td>4366</td>\n",
       "      <td>7.60</td>\n",
       "    </tr>\n",
       "    <tr>\n",
       "      <th>1</th>\n",
       "      <td>train</td>\n",
       "      <td>response_a</td>\n",
       "      <td>7546</td>\n",
       "      <td>13.13</td>\n",
       "    </tr>\n",
       "    <tr>\n",
       "      <th>2</th>\n",
       "      <td>train</td>\n",
       "      <td>response_b</td>\n",
       "      <td>7501</td>\n",
       "      <td>13.05</td>\n",
       "    </tr>\n",
       "  </tbody>\n",
       "</table>\n",
       "</div>"
      ],
      "text/plain": [
       "   split      column  changed_rows  pct_changed\n",
       "0  train      prompt          4366         7.60\n",
       "1  train  response_a          7546        13.13\n",
       "2  train  response_b          7501        13.05"
      ]
     },
     "metadata": {},
     "output_type": "display_data"
    },
    {
     "data": {
      "text/html": [
       "<div>\n",
       "<style scoped>\n",
       "    .dataframe tbody tr th:only-of-type {\n",
       "        vertical-align: middle;\n",
       "    }\n",
       "\n",
       "    .dataframe tbody tr th {\n",
       "        vertical-align: top;\n",
       "    }\n",
       "\n",
       "    .dataframe thead th {\n",
       "        text-align: right;\n",
       "    }\n",
       "</style>\n",
       "<table border=\"1\" class=\"dataframe\">\n",
       "  <thead>\n",
       "    <tr style=\"text-align: right;\">\n",
       "      <th></th>\n",
       "      <th>split</th>\n",
       "      <th>column</th>\n",
       "      <th>changed_rows</th>\n",
       "      <th>pct_changed</th>\n",
       "    </tr>\n",
       "  </thead>\n",
       "  <tbody>\n",
       "    <tr>\n",
       "      <th>0</th>\n",
       "      <td>test</td>\n",
       "      <td>prompt</td>\n",
       "      <td>0</td>\n",
       "      <td>0.00</td>\n",
       "    </tr>\n",
       "    <tr>\n",
       "      <th>1</th>\n",
       "      <td>test</td>\n",
       "      <td>response_a</td>\n",
       "      <td>1</td>\n",
       "      <td>33.33</td>\n",
       "    </tr>\n",
       "    <tr>\n",
       "      <th>2</th>\n",
       "      <td>test</td>\n",
       "      <td>response_b</td>\n",
       "      <td>1</td>\n",
       "      <td>33.33</td>\n",
       "    </tr>\n",
       "  </tbody>\n",
       "</table>\n",
       "</div>"
      ],
      "text/plain": [
       "  split      column  changed_rows  pct_changed\n",
       "0  test      prompt             0         0.00\n",
       "1  test  response_a             1        33.33\n",
       "2  test  response_b             1        33.33"
      ]
     },
     "metadata": {},
     "output_type": "display_data"
    },
    {
     "data": {
      "text/markdown": [
       "### Consistencia etiqueta vs. igualdad de respuestas (train limpio)"
      ],
      "text/plain": [
       "<IPython.core.display.Markdown object>"
      ]
     },
     "metadata": {},
     "output_type": "display_data"
    },
    {
     "data": {
      "text/markdown": [
       "- Filas con `response_a == response_b`: **275**"
      ],
      "text/plain": [
       "<IPython.core.display.Markdown object>"
      ]
     },
     "metadata": {},
     "output_type": "display_data"
    },
    {
     "data": {
      "text/markdown": [
       "- De ellas, **no** etiquetadas como `tie`: **27**  (→ revisar posibles inconsistencias)"
      ],
      "text/plain": [
       "<IPython.core.display.Markdown object>"
      ]
     },
     "metadata": {},
     "output_type": "display_data"
    },
    {
     "data": {
      "text/markdown": [
       "### Deduplicación en train limpio"
      ],
      "text/plain": [
       "<IPython.core.display.Markdown object>"
      ]
     },
     "metadata": {},
     "output_type": "display_data"
    },
    {
     "data": {
      "text/markdown": [
       "- Filas antes: **57477**  \n",
       "- Filas después: **57406**  \n",
       "- **Removidas por duplicado exacto (prompt, response_a, response_b): 71**"
      ],
      "text/plain": [
       "<IPython.core.display.Markdown object>"
      ]
     },
     "metadata": {},
     "output_type": "display_data"
    },
    {
     "data": {
      "text/markdown": [
       "> **Listo.** Quedan en memoria `df_train_clean` y `df_test_clean`. Próximo paso sugerido: métricas de **sesgo por posición/longitud** y definición de **límites de longitud/tokens** y *split* sin fuga."
      ],
      "text/plain": [
       "<IPython.core.display.Markdown object>"
      ]
     },
     "metadata": {},
     "output_type": "display_data"
    }
   ],
   "source": [
    "import re\n",
    "import unicodedata\n",
    "import pandas as pd\n",
    "from IPython.display import display, Markdown\n",
    "\n",
    "def md(s: str):\n",
    "    display(Markdown(s))\n",
    "\n",
    "TEXT_COLS = [\"prompt\", \"response_a\", \"response_b\"]\n",
    "\n",
    "def _strip_control_chars(s: str) -> str:\n",
    "    # Elimina caracteres categoría Unicode 'C' (control/format), pero preserva \\n y \\t\n",
    "    return \"\".join(ch for ch in s if (unicodedata.category(ch)[0] != \"C\") or ch in (\"\\n\", \"\\t\"))\n",
    "\n",
    "def clean_text(x) -> str:\n",
    "    # Robustez a NaN/None: convierte a string (no hay nulos según chequeo previo, pero se protege)\n",
    "    s = \"\" if pd.isna(x) else str(x)\n",
    "    # Normaliza Unicode\n",
    "    s = unicodedata.normalize(\"NFC\", s)\n",
    "    # Normaliza saltos de línea\n",
    "    s = s.replace(\"\\r\\n\", \"\\n\").replace(\"\\r\", \"\\n\")\n",
    "    # Remueve chars de control (salvando \\n y \\t)\n",
    "    s = _strip_control_chars(s)\n",
    "    # Colapsa espacios y tabs contiguos (preserva saltos de línea)\n",
    "    s = re.sub(r\"[^\\S\\n]+\", \" \", s)\n",
    "    # Recorta espacios exteriores (no toca saltos de línea internos)\n",
    "    return s.strip()\n",
    "\n",
    "def apply_clean(df: pd.DataFrame, cols) -> tuple[pd.DataFrame, pd.DataFrame]:\n",
    "    out = df.copy()\n",
    "    report_rows = []\n",
    "    for c in cols:\n",
    "        before = out[c].astype(str)\n",
    "        after = before.map(clean_text)\n",
    "        changed = (before != after)\n",
    "        out[c] = after\n",
    "        report_rows.append({\n",
    "            \"column\": c,\n",
    "            \"changed_rows\": int(changed.sum()),\n",
    "            \"pct_changed\": round(100 * changed.mean(), 2)\n",
    "        })\n",
    "    return out, pd.DataFrame(report_rows)\n",
    "\n",
    "# ---------- 1) Aplicar limpieza ----------\n",
    "df_train_clean, train_changes = apply_clean(df_train, TEXT_COLS)\n",
    "df_test_clean,  test_changes  = apply_clean(df_test,  TEXT_COLS)\n",
    "\n",
    "md(\"### Cambios por columna tras limpieza\")\n",
    "display(train_changes.assign(split=\"train\")[[\"split\",\"column\",\"changed_rows\",\"pct_changed\"]])\n",
    "display(test_changes.assign(split=\"test\")[[\"split\",\"column\",\"changed_rows\",\"pct_changed\"]])\n",
    "\n",
    "# ---------- 2) Flag de “empate esperado por texto” ----------\n",
    "has_targets = all(c in df_train_clean.columns for c in [\"winner_model_a\",\"winner_model_b\",\"winner_tie\"])\n",
    "if has_targets:\n",
    "    eq_ab = (df_train_clean[\"response_a\"] == df_train_clean[\"response_b\"])\n",
    "    not_tie = (df_train_clean[\"winner_tie\"] != 1)\n",
    "    df_train_clean[\"tie_expected_from_text\"] = eq_ab\n",
    "    df_train_clean[\"tie_label_mismatch\"]     = eq_ab & not_tie\n",
    "    n_eq = int(eq_ab.sum())\n",
    "    n_mismatch = int((eq_ab & not_tie).sum())\n",
    "    md(\"### Consistencia etiqueta vs. igualdad de respuestas (train limpio)\")\n",
    "    md(f\"- Filas con `response_a == response_b`: **{n_eq}**\")\n",
    "    md(f\"- De ellas, **no** etiquetadas como `tie`: **{n_mismatch}**  (→ revisar posibles inconsistencias)\")\n",
    "else:\n",
    "    md(\"### Consistencia etiqueta vs. igualdad de respuestas\")\n",
    "    md(\"- Columnas de objetivo no presentes; se omite el chequeo de `winner_tie`.\")\n",
    "\n",
    "# ---------- 3) Deduplicación por tripleta exacta en train limpio ----------\n",
    "before_n = len(df_train_clean)\n",
    "df_train_clean = df_train_clean.drop_duplicates(subset=TEXT_COLS, keep=\"first\").reset_index(drop=True)\n",
    "after_n = len(df_train_clean)\n",
    "removed = before_n - after_n\n",
    "md(\"### Deduplicación en train limpio\")\n",
    "md(f\"- Filas antes: **{before_n}**  \\n- Filas después: **{after_n}**  \\n- **Removidas por duplicado exacto (prompt, response_a, response_b): {removed}**\")\n",
    "\n",
    "# ---------- 4) Recordatorio de objetos en memoria ----------\n",
    "md(\"> **Listo.** Quedan en memoria `df_train_clean` y `df_test_clean`. Próximo paso sugerido: métricas de **sesgo por posición/longitud** y definición de **límites de longitud/tokens** y *split* sin fuga.\")\n"
   ]
  },
  {
   "cell_type": "markdown",
   "id": "842f21f5",
   "metadata": {},
   "source": [
    "# Análisis de limpieza y deduplicación\n",
    "\n",
    "## 1) Impacto de la limpieza\n",
    "- **Cambios en `train`**\n",
    "  - `prompt`: 4,366 filas (7.60%)\n",
    "  - `response_a`: 7,546 filas (13.13%)\n",
    "  - `response_b`: 7,501 filas (13.05%)\n",
    "- **Cambios en `test`**\n",
    "  - `prompt`: 0 filas (0.00%)\n",
    "  - `response_a`: 1 fila (33.33%)\n",
    "  - `response_b`: 1 fila (33.33%)\n",
    "\n",
    "**Lectura:** El impacto está concentrado en las respuestas (≈13%), consistente con normalización de Unicode, control chars y espacios. En `test` los cambios son mínimos (buena señal de calidad de entrada).\n",
    "\n",
    "---\n",
    "\n",
    "## 2) Consistencia etiqueta vs. igualdad de respuestas\n",
    "- Filas con **`response_a == response_b`**: **275**\n",
    "- De esas, **no etiquetadas como `tie`**: **27**\n",
    "\n",
    "**Riesgo:** Posibles **inconsistencias de etiqueta**. En pares A=B se esperaría `winner_tie=1`. Dejar estas filas sin corregir puede introducir ruido en el entrenamiento y afectar calibración.\n",
    "\n",
    "**Sugerencia de manejo:**\n",
    "- Opción A (segura): **Excluir** estas 27 filas del entrenamiento.\n",
    "- Opción B (conservadora): Forzar `winner_tie=1` si A==B **y** no hay evidencia en contra.\n",
    "- Opción C (ponderación): Mantenerlas pero con **peso reducido** para minimizar su impacto.\n",
    "\n",
    "---\n",
    "\n",
    "## 3) Deduplicación\n",
    "- **Antes**: 57,477 filas  \n",
    "- **Después**: 57,406 filas  \n",
    "- **Removidas**: **71** (duplicado exacto por `prompt`, `response_a`, `response_b`)\n",
    "\n",
    "**Lectura:** La deduplicación elimina sobre-representación de casos triviales y reduce riesgo de fuga. El conteo removido coincide con el número de duplicados detectados previamente.\n",
    "\n",
    "---\n",
    "\n",
    "## 4) Conclusión operativa\n",
    "- La limpieza fue **no destructiva** y consistente; la mayoría de cambios son de higiene (espacios/Unicode).\n",
    "- La **deduplicación** dejó un conjunto más estable y sin sobre-rep.\n",
    "- Persisten **27 casos** con **A==B** y **no-tie** que conviene tratar explícitamente antes de entrenar.\n"
   ]
  }
 ],
 "metadata": {
  "kernelspec": {
   "display_name": "Python 3",
   "language": "python",
   "name": "python3"
  },
  "language_info": {
   "codemirror_mode": {
    "name": "ipython",
    "version": 3
   },
   "file_extension": ".py",
   "mimetype": "text/x-python",
   "name": "python",
   "nbconvert_exporter": "python",
   "pygments_lexer": "ipython3",
   "version": "3.13.2"
  }
 },
 "nbformat": 4,
 "nbformat_minor": 5
}
